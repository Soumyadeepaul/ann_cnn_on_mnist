{
 "cells": [
  {
   "cell_type": "markdown",
   "id": "13c967e5",
   "metadata": {},
   "source": [
    "# ANN and CNN on Mnist Dataset  "
   ]
  },
  {
   "cell_type": "code",
   "execution_count": 1,
   "id": "ad1a3bb4",
   "metadata": {},
   "outputs": [],
   "source": [
    "#!pip install tensorflow"
   ]
  },
  {
   "cell_type": "code",
   "execution_count": 2,
   "id": "45fba4fe",
   "metadata": {},
   "outputs": [],
   "source": [
    "import tensorflow as tf\n",
    "from tensorflow import keras\n",
    "import matplotlib.pyplot as plt\n",
    "import numpy as np\n",
    "import cv2"
   ]
  },
  {
   "cell_type": "code",
   "execution_count": 4,
   "id": "05fe02a4",
   "metadata": {},
   "outputs": [],
   "source": [
    "#loading mnist dataset\n",
    "(X_train,y_train),(X_test,y_test)= keras.datasets.mnist.load_data()"
   ]
  },
  {
   "cell_type": "code",
   "execution_count": 5,
   "id": "99323c82",
   "metadata": {},
   "outputs": [
    {
     "data": {
      "text/plain": [
       "(60000, 28, 28)"
      ]
     },
     "execution_count": 5,
     "metadata": {},
     "output_type": "execute_result"
    }
   ],
   "source": [
    "X_train.shape"
   ]
  },
  {
   "cell_type": "code",
   "execution_count": 6,
   "id": "afbd5c26",
   "metadata": {},
   "outputs": [],
   "source": [
    "#1st data\n",
    "#X_train[0]"
   ]
  },
  {
   "cell_type": "code",
   "execution_count": 7,
   "id": "13658983",
   "metadata": {},
   "outputs": [
    {
     "data": {
      "text/plain": [
       "<matplotlib.image.AxesImage at 0x26e4ccab190>"
      ]
     },
     "execution_count": 7,
     "metadata": {},
     "output_type": "execute_result"
    },
    {
     "data": {
      "image/png": "[encoded data removed]",
      "text/plain": [
       "<Figure size 288x288 with 1 Axes>"
      ]
     },
     "metadata": {
      "needs_background": "light"
     },
     "output_type": "display_data"
    }
   ],
   "source": [
    "#ploting the 1st data\n",
    "plt.matshow(X_train[0])"
   ]
  },
  {
   "cell_type": "code",
   "execution_count": 8,
   "id": "d50562fd",
   "metadata": {},
   "outputs": [
    {
     "data": {
      "text/plain": [
       "(28, 28)"
      ]
     },
     "execution_count": 8,
     "metadata": {},
     "output_type": "execute_result"
    }
   ],
   "source": [
    "#shape is of 28*28 pixels\n",
    "X_train[0].shape"
   ]
  },
  {
   "cell_type": "markdown",
   "id": "55208e81",
   "metadata": {},
   "source": [
    "# ANN \n",
    "### Artificial Neural Network"
   ]
  },
  {
   "cell_type": "code",
   "execution_count": 9,
   "id": "86b54ec1",
   "metadata": {},
   "outputs": [],
   "source": [
    "#normalization\n",
    "x_train_1,x_test_1=X_train/255.0,X_test/255.0"
   ]
  },
  {
   "cell_type": "code",
   "execution_count": 10,
   "id": "357a196f",
   "metadata": {},
   "outputs": [],
   "source": [
    "#x_train_1[0]"
   ]
  },
  {
   "cell_type": "code",
   "execution_count": 11,
   "id": "1cc50879",
   "metadata": {},
   "outputs": [],
   "source": [
    "#flattening the 28*28 to 1D array of 784\n",
    "X_train_flattern=x_train_1.reshape(len(x_train_1),28*28)\n",
    "X_test_flattern=x_test_1.reshape(len(x_test_1),28*28)"
   ]
  },
  {
   "cell_type": "code",
   "execution_count": 12,
   "id": "c075b2dd",
   "metadata": {},
   "outputs": [
    {
     "data": {
      "text/plain": [
       "(60000, 784)"
      ]
     },
     "execution_count": 12,
     "metadata": {},
     "output_type": "execute_result"
    }
   ],
   "source": [
    "X_train_flattern.shape"
   ]
  },
  {
   "cell_type": "code",
   "execution_count": 81,
   "id": "ef0703a5",
   "metadata": {},
   "outputs": [],
   "source": [
    "model=keras.Sequential()\n",
    "#784->128\n",
    "model.add(keras.layers.Dense(128,input_shape=(784,),activation='sigmoid'))\n",
    "#128->32\n",
    "model.add(keras.layers.Dense(32,activation='relu'))\n",
    "#32->10....10 because 0 to 9\n",
    "model.add(keras.layers.Dense(10,activation='softmax'))"
   ]
  },
  {
   "cell_type": "code",
   "execution_count": 82,
   "id": "efbdd750",
   "metadata": {},
   "outputs": [],
   "source": [
    "#compiling\n",
    "#optimizer adam\n",
    "#loss calculation\n",
    "#to see the accuracy we use metrics\n",
    "#loss must be minimal and accuracy must the maximal\n",
    "#crossentropy loss is for binary classification problem\n",
    "#sparse_categorical_crossentropy is for multiclass classification problem\n",
    "#adam is the best optimizer....other optimizer example Gradient Descent\n",
    "model.compile(optimizer='adam',loss='sparse_categorical_crossentropy', metrics=['accuracy'])"
   ]
  },
  {
   "cell_type": "code",
   "execution_count": 83,
   "id": "ba13a613",
   "metadata": {},
   "outputs": [
    {
     "name": "stdout",
     "output_type": "stream",
     "text": [
      "Epoch 1/20\n",
      "1875/1875 [==============================] - 4s 2ms/step - loss: 0.3814 - accuracy: 0.8954\n",
      "Epoch 2/20\n",
      "1875/1875 [==============================] - 4s 2ms/step - loss: 0.1762 - accuracy: 0.9473\n",
      "Epoch 3/20\n",
      "1875/1875 [==============================] - 4s 2ms/step - loss: 0.1242 - accuracy: 0.9633\n",
      "Epoch 4/20\n",
      "1875/1875 [==============================] - 4s 2ms/step - loss: 0.0935 - accuracy: 0.9712\n",
      "Epoch 5/20\n",
      "1875/1875 [==============================] - 4s 2ms/step - loss: 0.0731 - accuracy: 0.9778\n",
      "Epoch 6/20\n",
      "1875/1875 [==============================] - 4s 2ms/step - loss: 0.0585 - accuracy: 0.9816\n",
      "Epoch 7/20\n",
      "1875/1875 [==============================] - 4s 2ms/step - loss: 0.0474 - accuracy: 0.9853\n",
      "Epoch 8/20\n",
      "1875/1875 [==============================] - 4s 2ms/step - loss: 0.0381 - accuracy: 0.9883\n",
      "Epoch 9/20\n",
      "1875/1875 [==============================] - 4s 2ms/step - loss: 0.0311 - accuracy: 0.9903\n",
      "Epoch 10/20\n",
      "1875/1875 [==============================] - 4s 2ms/step - loss: 0.0253 - accuracy: 0.9920\n",
      "Epoch 11/20\n",
      "1875/1875 [==============================] - 4s 2ms/step - loss: 0.0196 - accuracy: 0.9942\n",
      "Epoch 12/20\n",
      "1875/1875 [==============================] - 4s 2ms/step - loss: 0.0164 - accuracy: 0.9950\n",
      "Epoch 13/20\n",
      "1875/1875 [==============================] - 4s 2ms/step - loss: 0.0134 - accuracy: 0.9961\n",
      "Epoch 14/20\n",
      "1875/1875 [==============================] - 4s 2ms/step - loss: 0.0111 - accuracy: 0.9965\n",
      "Epoch 15/20\n",
      "1875/1875 [==============================] - 5s 2ms/step - loss: 0.0093 - accuracy: 0.9973\n",
      "Epoch 16/20\n",
      "1875/1875 [==============================] - 5s 2ms/step - loss: 0.0086 - accuracy: 0.9976\n",
      "Epoch 17/20\n",
      "1875/1875 [==============================] - 4s 2ms/step - loss: 0.0067 - accuracy: 0.9980\n",
      "Epoch 18/20\n",
      "1875/1875 [==============================] - 4s 2ms/step - loss: 0.0071 - accuracy: 0.9979\n",
      "Epoch 19/20\n",
      "1875/1875 [==============================] - 4s 2ms/step - loss: 0.0061 - accuracy: 0.9981\n",
      "Epoch 20/20\n",
      "1875/1875 [==============================] - 4s 2ms/step - loss: 0.0055 - accuracy: 0.9983\n"
     ]
    },
    {
     "data": {
      "text/plain": [
       "<keras.callbacks.History at 0x26e76bbd160>"
      ]
     },
     "execution_count": 83,
     "metadata": {},
     "output_type": "execute_result"
    }
   ],
   "source": [
    "model.fit(X_train_flattern,y_train,epochs=20)"
   ]
  },
  {
   "cell_type": "code",
   "execution_count": 87,
   "id": "cdf78921",
   "metadata": {},
   "outputs": [
    {
     "name": "stdout",
     "output_type": "stream",
     "text": [
      "Model: \"sequential_2\"\n",
      "_________________________________________________________________\n",
      " Layer (type)                Output Shape              Param #   \n",
      "=================================================================\n",
      " dense_6 (Dense)             (None, 128)               100480    \n",
      "                                                                 \n",
      " dense_7 (Dense)             (None, 32)                4128      \n",
      "                                                                 \n",
      " dense_8 (Dense)             (None, 10)                330       \n",
      "                                                                 \n",
      "=================================================================\n",
      "Total params: 104,938\n",
      "Trainable params: 104,938\n",
      "Non-trainable params: 0\n",
      "_________________________________________________________________\n"
     ]
    }
   ],
   "source": [
    "model.summary()\n",
    "#input*node+bias\n",
    "#784*128+128\n",
    "#128*32+32"
   ]
  },
  {
   "cell_type": "code",
   "execution_count": 88,
   "id": "b225f772",
   "metadata": {},
   "outputs": [
    {
     "name": "stdout",
     "output_type": "stream",
     "text": [
      "1875/1875 [==============================] - 2s 1ms/step - loss: 0.0039 - accuracy: 0.9988\n"
     ]
    },
    {
     "data": {
      "text/plain": [
       "[0.0038802975323051214, 0.9988333582878113]"
      ]
     },
     "execution_count": 88,
     "metadata": {},
     "output_type": "execute_result"
    }
   ],
   "source": [
    "#evaluating accuracy and loss over training set\n",
    "model.evaluate(X_train_flattern,y_train)"
   ]
  },
  {
   "cell_type": "code",
   "execution_count": 89,
   "id": "265c0172",
   "metadata": {},
   "outputs": [
    {
     "name": "stdout",
     "output_type": "stream",
     "text": [
      "313/313 [==============================] - 1s 1ms/step - loss: 0.1042 - accuracy: 0.9763\n"
     ]
    },
    {
     "data": {
      "text/plain": [
       "[0.10419494658708572, 0.9763000011444092]"
      ]
     },
     "execution_count": 89,
     "metadata": {},
     "output_type": "execute_result"
    }
   ],
   "source": [
    "#evaluating accuracy and loss over testing set\n",
    "model.evaluate(X_test_flattern,y_test)"
   ]
  },
  {
   "cell_type": "code",
   "execution_count": 90,
   "id": "c8ad9b45",
   "metadata": {},
   "outputs": [
    {
     "name": "stdout",
     "output_type": "stream",
     "text": [
      "313/313 [==============================] - 1s 2ms/step\n"
     ]
    }
   ],
   "source": [
    "#model prediction\n",
    "ann_model=model.predict(X_test_flattern)"
   ]
  },
  {
   "cell_type": "code",
   "execution_count": 91,
   "id": "f41d9148",
   "metadata": {},
   "outputs": [
    {
     "data": {
      "text/plain": [
       "array([[3.01845008e-16, 5.29522932e-13, 6.23388632e-11, ...,\n",
       "        1.00000000e+00, 6.13565849e-15, 4.00461539e-11],\n",
       "       [1.76481295e-11, 3.58774130e-08, 1.00000000e+00, ...,\n",
       "        1.38764167e-16, 2.46606291e-10, 1.86215954e-18],\n",
       "       [4.01302933e-13, 9.99988437e-01, 1.86394027e-06, ...,\n",
       "        4.22117353e-07, 9.12093128e-06, 8.91335703e-12],\n",
       "       ...,\n",
       "       [1.53542329e-15, 3.60637728e-14, 2.48192533e-15, ...,\n",
       "        2.46361931e-09, 6.16901197e-10, 1.41419662e-07],\n",
       "       [1.02574914e-18, 7.84140412e-14, 1.64163388e-13, ...,\n",
       "        1.37818123e-18, 2.39567925e-07, 3.55052753e-17],\n",
       "       [6.73952560e-11, 1.32388805e-11, 3.17154769e-09, ...,\n",
       "        4.92337106e-16, 2.76231760e-10, 2.97608864e-16]], dtype=float32)"
      ]
     },
     "execution_count": 91,
     "metadata": {},
     "output_type": "execute_result"
    }
   ],
   "source": [
    "ann_model"
   ]
  },
  {
   "cell_type": "code",
   "execution_count": 92,
   "id": "f3393afb",
   "metadata": {},
   "outputs": [
    {
     "data": {
      "text/plain": [
       "<matplotlib.image.AxesImage at 0x26e76dae310>"
      ]
     },
     "execution_count": 92,
     "metadata": {},
     "output_type": "execute_result"
    },
    {
     "data": {
      "image/png": "[encoded data removed]",
      "text/plain": [
       "<Figure size 288x288 with 1 Axes>"
      ]
     },
     "metadata": {
      "needs_background": "light"
     },
     "output_type": "display_data"
    }
   ],
   "source": [
    "#original data\n",
    "plt.matshow(X_test[111])"
   ]
  },
  {
   "cell_type": "code",
   "execution_count": 93,
   "id": "b7927376",
   "metadata": {},
   "outputs": [
    {
     "data": {
      "text/plain": [
       "7"
      ]
     },
     "execution_count": 93,
     "metadata": {},
     "output_type": "execute_result"
    }
   ],
   "source": [
    "#to check the prediction\n",
    "np.argmax(ann_model[111])"
   ]
  },
  {
   "cell_type": "code",
   "execution_count": null,
   "id": "5c353c72",
   "metadata": {},
   "outputs": [],
   "source": []
  },
  {
   "cell_type": "markdown",
   "id": "f21d88f7",
   "metadata": {},
   "source": [
    "## Testing over self created data"
   ]
  },
  {
   "cell_type": "code",
   "execution_count": 94,
   "id": "f52c9dec",
   "metadata": {},
   "outputs": [],
   "source": [
    "#!pip install opencv-python"
   ]
  },
  {
   "cell_type": "code",
   "execution_count": 95,
   "id": "023a5ed3",
   "metadata": {},
   "outputs": [],
   "source": [
    "#load the image\n",
    "r_image=cv2.imread(r'E:\\8.png',cv2.IMREAD_GRAYSCALE)"
   ]
  },
  {
   "cell_type": "code",
   "execution_count": 96,
   "id": "742158fe",
   "metadata": {},
   "outputs": [
    {
     "data": {
      "text/plain": [
       "<matplotlib.image.AxesImage at 0x26e76ddaa60>"
      ]
     },
     "execution_count": 96,
     "metadata": {},
     "output_type": "execute_result"
    },
    {
     "data": {
      "image/png": "[encoded data removed]",
      "text/plain": [
       "<Figure size 288x288 with 1 Axes>"
      ]
     },
     "metadata": {
      "needs_background": "light"
     },
     "output_type": "display_data"
    }
   ],
   "source": [
    "#original image\n",
    "plt.matshow(r_image)"
   ]
  },
  {
   "cell_type": "code",
   "execution_count": 97,
   "id": "e87d9e15",
   "metadata": {},
   "outputs": [
    {
     "data": {
      "text/plain": [
       "(28, 28)"
      ]
     },
     "execution_count": 97,
     "metadata": {},
     "output_type": "execute_result"
    }
   ],
   "source": [
    "r_image.shape"
   ]
  },
  {
   "cell_type": "code",
   "execution_count": 98,
   "id": "43d38499",
   "metadata": {},
   "outputs": [],
   "source": [
    "#to convert 255 to 0\n",
    "k=cv2.bitwise_not(r_image)"
   ]
  },
  {
   "cell_type": "code",
   "execution_count": 99,
   "id": "cdccc43d",
   "metadata": {},
   "outputs": [],
   "source": [
    "#normalization\n",
    "k=k/255.0"
   ]
  },
  {
   "cell_type": "code",
   "execution_count": 100,
   "id": "1e127430",
   "metadata": {},
   "outputs": [],
   "source": [
    "#flatten to shape 1,784\n",
    "r_image_flatten=k.reshape(1,28*28)"
   ]
  },
  {
   "cell_type": "code",
   "execution_count": 101,
   "id": "270ff615",
   "metadata": {},
   "outputs": [
    {
     "data": {
      "text/plain": [
       "(1, 784)"
      ]
     },
     "execution_count": 101,
     "metadata": {},
     "output_type": "execute_result"
    }
   ],
   "source": [
    "r_image_flatten.shape"
   ]
  },
  {
   "cell_type": "code",
   "execution_count": 102,
   "id": "bec4f06b",
   "metadata": {},
   "outputs": [
    {
     "name": "stdout",
     "output_type": "stream",
     "text": [
      "1/1 [==============================] - 0s 25ms/step\n"
     ]
    }
   ],
   "source": [
    "#prediction\n",
    "ann_predict=model.predict(r_image_flatten)"
   ]
  },
  {
   "cell_type": "code",
   "execution_count": 103,
   "id": "fbae99bc",
   "metadata": {},
   "outputs": [
    {
     "data": {
      "text/plain": [
       "9"
      ]
     },
     "execution_count": 103,
     "metadata": {},
     "output_type": "execute_result"
    }
   ],
   "source": [
    "#to check the prediction\n",
    "np.argmax(ann_predict[0])"
   ]
  },
  {
   "cell_type": "markdown",
   "id": "24b5b39d",
   "metadata": {},
   "source": [
    "### ANN model is successful in predicting over the test data set and self created data(s)\n",
    "#### Accuracy 97.63% \n",
    "\n",
    "#####  1st layer is of 784 to 128 nodes and activation function sigmoid\n",
    "#####  2nd layer is of 128 to 32 nodes and activation function relu\n",
    "#####  Output layer is of 32 to 10 nodes and activation function softmax"
   ]
  },
  {
   "cell_type": "code",
   "execution_count": null,
   "id": "a4336091",
   "metadata": {},
   "outputs": [],
   "source": []
  },
  {
   "cell_type": "markdown",
   "id": "f0cba961",
   "metadata": {},
   "source": [
    "# CNN \n",
    "### Convolutional Neural Network"
   ]
  },
  {
   "cell_type": "code",
   "execution_count": 104,
   "id": "47b7825e",
   "metadata": {},
   "outputs": [],
   "source": [
    "#same dataset"
   ]
  },
  {
   "cell_type": "code",
   "execution_count": 105,
   "id": "640633fb",
   "metadata": {},
   "outputs": [
    {
     "data": {
      "text/plain": [
       "(60000, 28, 28)"
      ]
     },
     "execution_count": 105,
     "metadata": {},
     "output_type": "execute_result"
    }
   ],
   "source": [
    "X_train.shape"
   ]
  },
  {
   "cell_type": "code",
   "execution_count": 110,
   "id": "558db123",
   "metadata": {},
   "outputs": [],
   "source": [
    "from tensorflow.keras import layers, models"
   ]
  },
  {
   "cell_type": "code",
   "execution_count": 106,
   "id": "efe18b05",
   "metadata": {},
   "outputs": [],
   "source": [
    "#normalization\n",
    "x_train,x_test=X_train/255.0,X_test/255.0"
   ]
  },
  {
   "cell_type": "code",
   "execution_count": 107,
   "id": "77c82c65",
   "metadata": {},
   "outputs": [],
   "source": [
    "#flatten to 28 28 1\n",
    "x_train_f,x_test_f=np.expand_dims(x_train,axis=-1),np.expand_dims(x_test,axis=-1)"
   ]
  },
  {
   "cell_type": "code",
   "execution_count": 108,
   "id": "546a1108",
   "metadata": {},
   "outputs": [
    {
     "data": {
      "text/plain": [
       "(60000, 28, 28, 1)"
      ]
     },
     "execution_count": 108,
     "metadata": {},
     "output_type": "execute_result"
    }
   ],
   "source": [
    "x_train_f.shape"
   ]
  },
  {
   "cell_type": "code",
   "execution_count": 111,
   "id": "8817af41",
   "metadata": {},
   "outputs": [],
   "source": [
    "#input shape\n",
    "inputs=layers.Input(shape=(28,28,1))"
   ]
  },
  {
   "cell_type": "markdown",
   "id": "5a032cf2",
   "metadata": {},
   "source": [
    "### Conv2D->MaxPolling2D\n",
    "### Conv2D->MaxPolling2D\n",
    "### Flatten\n",
    "### Sigmoid\n",
    "### Softmax"
   ]
  },
  {
   "cell_type": "code",
   "execution_count": 238,
   "id": "0a13320b",
   "metadata": {},
   "outputs": [],
   "source": [
    "#Conv2D = 2D Convolution Layer\n",
    "#here it take 3,3 matrix ususally \n",
    "#[[1,1,1],\n",
    "# [1,-1,1],\n",
    "# [1,1,1]]     it is basically a loop detection..... in the resultant matrix if it results 1, the desired object is found\n",
    "#ReLU is applied to convert '-'ve values to 0\n",
    "c=(layers.Conv2D(32,(3,3),padding='valid',activation='relu'))(inputs)\n",
    "##MaxPooling2D is a technique to reduce computational complexity\n",
    "#2,2 filter is used  for getting the max\n",
    "#2,2 stride is used  for shifting the fliter\n",
    "m=(layers.MaxPooling2D((2,2),(2,2)))(c)\n",
    "#padding valid means to without adding additional rows and columns in the output feature map\n",
    "#size of the output feature map is less than the size of the input data\n",
    "#reduces the parameters in the model and impoves the computational efficiency\n",
    "c1=(layers.Conv2D(16,(3,3),padding='valid',activation='relu'))(m)\n",
    "m1=(layers.MaxPooling2D((2,2),(2,2)))(c1)\n",
    "#flatten is important because Conv2D works on 2D matrix... needed to be converted into 1D array\n",
    "f=layers.Flatten()(m1)\n",
    "#another layer of sigmoid is used\n",
    "d=layers.Dense(16,activation='sigmoid')(f)\n",
    "#softmax activation is used in output layer\n",
    "out=layers.Dense(10,activation='softmax')(d)"
   ]
  },
  {
   "cell_type": "markdown",
   "id": "3de39c0c",
   "metadata": {},
   "source": [
    "##### Basic knowledge about cnn"
   ]
  },
  {
   "cell_type": "code",
   "execution_count": 239,
   "id": "7b019e5d",
   "metadata": {},
   "outputs": [
    {
     "data": {
      "image/png": "[encoded data removed]",
      "text/plain": [
       "<Figure size 563.902x288 with 1 Axes>"
      ]
     },
     "metadata": {
      "needs_background": "light"
     },
     "output_type": "display_data"
    }
   ],
   "source": [
    "cn1=cv2.imread(r'E:\\CNN\\cnn1.jpg')\n",
    "plt.matshow(cn1)\n",
    "plt.axis('off')\n",
    "plt.title('Conv2D')\n",
    "plt.show()"
   ]
  },
  {
   "cell_type": "code",
   "execution_count": 240,
   "id": "0f6c424d",
   "metadata": {},
   "outputs": [
    {
     "data": {
      "image/png": "[encoded data removed]",
      "text/plain": [
       "<Figure size 519.003x288 with 1 Axes>"
      ]
     },
     "metadata": {
      "needs_background": "light"
     },
     "output_type": "display_data"
    }
   ],
   "source": [
    "cn2=cv2.imread(r'E:\\CNN\\cnn2.jpg')\n",
    "plt.matshow(cn2)\n",
    "plt.axis('off')\n",
    "plt.title('After 1 complete Conv2d   \\'After relu all negetive value will be 0\\'')\n",
    "plt.show()"
   ]
  },
  {
   "cell_type": "code",
   "execution_count": 241,
   "id": "fd6365db",
   "metadata": {},
   "outputs": [
    {
     "data": {
      "image/png": "[encoded data removed]",
      "text/plain": [
       "<Figure size 520.431x288 with 1 Axes>"
      ]
     },
     "metadata": {
      "needs_background": "light"
     },
     "output_type": "display_data"
    }
   ],
   "source": [
    "cn3=cv2.imread(r'E:\\CNN\\cnn3.jpg')\n",
    "plt.matshow(cn3)\n",
    "plt.axis('off')\n",
    "plt.title('Maxpooling2D')\n",
    "plt.show()"
   ]
  },
  {
   "cell_type": "code",
   "execution_count": 242,
   "id": "1908850a",
   "metadata": {},
   "outputs": [],
   "source": [
    "#model making\n",
    "model1=models.Model(inputs,out)"
   ]
  },
  {
   "cell_type": "code",
   "execution_count": 243,
   "id": "8b23d7f5",
   "metadata": {},
   "outputs": [],
   "source": [
    "#compliling\n",
    "model1.compile(optimizer='adam',loss='sparse_categorical_crossentropy', metrics=['accuracy'])"
   ]
  },
  {
   "cell_type": "code",
   "execution_count": 244,
   "id": "7c7167be",
   "metadata": {},
   "outputs": [
    {
     "name": "stdout",
     "output_type": "stream",
     "text": [
      "Epoch 1/10\n",
      "1875/1875 [==============================] - 20s 10ms/step - loss: 0.4954 - accuracy: 0.9026\n",
      "Epoch 2/10\n",
      "1875/1875 [==============================] - 19s 10ms/step - loss: 0.1287 - accuracy: 0.9691\n",
      "Epoch 3/10\n",
      "1875/1875 [==============================] - 19s 10ms/step - loss: 0.0799 - accuracy: 0.9790\n",
      "Epoch 4/10\n",
      "1875/1875 [==============================] - 19s 10ms/step - loss: 0.0580 - accuracy: 0.9844\n",
      "Epoch 5/10\n",
      "1875/1875 [==============================] - 19s 10ms/step - loss: 0.0471 - accuracy: 0.9871\n",
      "Epoch 6/10\n",
      "1875/1875 [==============================] - 19s 10ms/step - loss: 0.0387 - accuracy: 0.9893\n",
      "Epoch 7/10\n",
      "1875/1875 [==============================] - 20s 10ms/step - loss: 0.0333 - accuracy: 0.9903\n",
      "Epoch 8/10\n",
      "1875/1875 [==============================] - 21s 11ms/step - loss: 0.0290 - accuracy: 0.9914\n",
      "Epoch 9/10\n",
      "1875/1875 [==============================] - 21s 11ms/step - loss: 0.0254 - accuracy: 0.9930\n",
      "Epoch 10/10\n",
      "1875/1875 [==============================] - 20s 11ms/step - loss: 0.0227 - accuracy: 0.9936\n"
     ]
    },
    {
     "data": {
      "text/plain": [
       "<keras.callbacks.History at 0x26e6debf850>"
      ]
     },
     "execution_count": 244,
     "metadata": {},
     "output_type": "execute_result"
    }
   ],
   "source": [
    "#training\n",
    "model1.fit(x_train_f,y_train,epochs=10)"
   ]
  },
  {
   "cell_type": "code",
   "execution_count": 245,
   "id": "7ccf74ee",
   "metadata": {},
   "outputs": [
    {
     "data": {
      "image/png": "[encoded data removed]",
      "text/plain": [
       "<PIL.Image.Image image mode=RGBA size=292x212 at 0x26E76D61400>"
      ]
     },
     "execution_count": 245,
     "metadata": {},
     "output_type": "execute_result"
    }
   ],
   "source": [
    "#Visualization of cnn layers\n",
    "import visualkeras\n",
    "visualkeras.layered_view(model1, legend=True)"
   ]
  },
  {
   "cell_type": "code",
   "execution_count": 246,
   "id": "fc7dcb68",
   "metadata": {},
   "outputs": [
    {
     "name": "stdout",
     "output_type": "stream",
     "text": [
      "Model: \"model_4\"\n",
      "_________________________________________________________________\n",
      " Layer (type)                Output Shape              Param #   \n",
      "=================================================================\n",
      " input_1 (InputLayer)        [(None, 28, 28, 1)]       0         \n",
      "                                                                 \n",
      " conv2d_8 (Conv2D)           (None, 26, 26, 32)        320       \n",
      "                                                                 \n",
      " max_pooling2d_8 (MaxPooling  (None, 13, 13, 32)       0         \n",
      " 2D)                                                             \n",
      "                                                                 \n",
      " conv2d_9 (Conv2D)           (None, 11, 11, 16)        4624      \n",
      "                                                                 \n",
      " max_pooling2d_9 (MaxPooling  (None, 5, 5, 16)         0         \n",
      " 2D)                                                             \n",
      "                                                                 \n",
      " flatten_4 (Flatten)         (None, 400)               0         \n",
      "                                                                 \n",
      " dense_14 (Dense)            (None, 16)                6416      \n",
      "                                                                 \n",
      " dense_15 (Dense)            (None, 10)                170       \n",
      "                                                                 \n",
      "=================================================================\n",
      "Total params: 11,530\n",
      "Trainable params: 11,530\n",
      "Non-trainable params: 0\n",
      "_________________________________________________________________\n"
     ]
    }
   ],
   "source": [
    "model1.summary()"
   ]
  },
  {
   "cell_type": "code",
   "execution_count": 247,
   "id": "89e87650",
   "metadata": {},
   "outputs": [
    {
     "name": "stdout",
     "output_type": "stream",
     "text": [
      "1875/1875 [==============================] - 7s 4ms/step - loss: 0.0195 - accuracy: 0.9946\n"
     ]
    },
    {
     "data": {
      "text/plain": [
       "[0.019534993916749954, 0.9945833086967468]"
      ]
     },
     "execution_count": 247,
     "metadata": {},
     "output_type": "execute_result"
    }
   ],
   "source": [
    "#Evaluating over training dataset\n",
    "model1.evaluate(x_train_f,y_train)"
   ]
  },
  {
   "cell_type": "code",
   "execution_count": 248,
   "id": "0fa6bf88",
   "metadata": {},
   "outputs": [
    {
     "name": "stdout",
     "output_type": "stream",
     "text": [
      "313/313 [==============================] - 1s 4ms/step - loss: 0.0388 - accuracy: 0.9870\n"
     ]
    },
    {
     "data": {
      "text/plain": [
       "[0.03880678117275238, 0.9869999885559082]"
      ]
     },
     "execution_count": 248,
     "metadata": {},
     "output_type": "execute_result"
    }
   ],
   "source": [
    "#Evaluating over testing set\n",
    "model1.evaluate(x_test_f,y_test)"
   ]
  },
  {
   "cell_type": "code",
   "execution_count": 249,
   "id": "62a4013c",
   "metadata": {},
   "outputs": [
    {
     "name": "stdout",
     "output_type": "stream",
     "text": [
      "313/313 [==============================] - 1s 4ms/step\n"
     ]
    }
   ],
   "source": [
    "#prediction on testing set\n",
    "cnn_model=model1.predict(x_test_f)"
   ]
  },
  {
   "cell_type": "code",
   "execution_count": 250,
   "id": "289b551f",
   "metadata": {},
   "outputs": [
    {
     "data": {
      "text/plain": [
       "7"
      ]
     },
     "execution_count": 250,
     "metadata": {},
     "output_type": "execute_result"
    }
   ],
   "source": [
    "#predicted value by cnn\n",
    "np.argmax(cnn_model[111])"
   ]
  },
  {
   "cell_type": "code",
   "execution_count": 251,
   "id": "f3cd0925",
   "metadata": {},
   "outputs": [
    {
     "data": {
      "text/plain": [
       "<matplotlib.image.AxesImage at 0x26e69b8b880>"
      ]
     },
     "execution_count": 251,
     "metadata": {},
     "output_type": "execute_result"
    },
    {
     "data": {
      "image/png": "[encoded data removed]",
      "text/plain": [
       "<Figure size 288x288 with 1 Axes>"
      ]
     },
     "metadata": {
      "needs_background": "light"
     },
     "output_type": "display_data"
    }
   ],
   "source": [
    "#original value\n",
    "plt.matshow(X_test[111])"
   ]
  },
  {
   "cell_type": "markdown",
   "id": "402ca78d",
   "metadata": {},
   "source": [
    "## Testing over self created data"
   ]
  },
  {
   "cell_type": "code",
   "execution_count": 252,
   "id": "23560825",
   "metadata": {},
   "outputs": [],
   "source": [
    "#image loading\n",
    "r_image=cv2.imread(r'E:\\8.png',cv2.IMREAD_GRAYSCALE)"
   ]
  },
  {
   "cell_type": "code",
   "execution_count": 253,
   "id": "45f25b81",
   "metadata": {},
   "outputs": [
    {
     "data": {
      "text/plain": [
       "<matplotlib.image.AxesImage at 0x26e76e2fd30>"
      ]
     },
     "execution_count": 253,
     "metadata": {},
     "output_type": "execute_result"
    },
    {
     "data": {
      "image/png": "[encoded data removed]",
      "text/plain": [
       "<Figure size 288x288 with 1 Axes>"
      ]
     },
     "metadata": {
      "needs_background": "light"
     },
     "output_type": "display_data"
    }
   ],
   "source": [
    "#original image\n",
    "plt.matshow(r_image)"
   ]
  },
  {
   "cell_type": "code",
   "execution_count": 254,
   "id": "d4da5e2a",
   "metadata": {},
   "outputs": [],
   "source": [
    "#converting 255 to 0\n",
    "im=cv2.bitwise_not(r_image)"
   ]
  },
  {
   "cell_type": "code",
   "execution_count": 255,
   "id": "de3f890f",
   "metadata": {},
   "outputs": [],
   "source": [
    "#normalization\n",
    "im=k/255."
   ]
  },
  {
   "cell_type": "code",
   "execution_count": 256,
   "id": "633fe41a",
   "metadata": {},
   "outputs": [
    {
     "data": {
      "text/plain": [
       "(28, 28)"
      ]
     },
     "execution_count": 256,
     "metadata": {},
     "output_type": "execute_result"
    }
   ],
   "source": [
    "im.shape"
   ]
  },
  {
   "cell_type": "code",
   "execution_count": 257,
   "id": "31bf3775",
   "metadata": {},
   "outputs": [],
   "source": [
    "#flatten image to 28,28,1\n",
    "im_f=np.expand_dims(im,axis=-1)"
   ]
  },
  {
   "cell_type": "code",
   "execution_count": 258,
   "id": "08eeb9a1",
   "metadata": {},
   "outputs": [
    {
     "data": {
      "text/plain": [
       "(28, 28, 1)"
      ]
     },
     "execution_count": 258,
     "metadata": {},
     "output_type": "execute_result"
    }
   ],
   "source": [
    "im_f.shape"
   ]
  },
  {
   "cell_type": "code",
   "execution_count": 259,
   "id": "3e8e448e",
   "metadata": {},
   "outputs": [],
   "source": [
    "#to reshape into 1 data to 1 row\n",
    "im_f=im_f.reshape(1,28,28,1)"
   ]
  },
  {
   "cell_type": "code",
   "execution_count": 260,
   "id": "74e7013e",
   "metadata": {},
   "outputs": [
    {
     "name": "stdout",
     "output_type": "stream",
     "text": [
      "1/1 [==============================] - 0s 23ms/step\n"
     ]
    }
   ],
   "source": [
    "#predicting over self created data\n",
    "cnn_predict=model1.predict(im_f)"
   ]
  },
  {
   "cell_type": "code",
   "execution_count": 261,
   "id": "9c4b3720",
   "metadata": {},
   "outputs": [
    {
     "data": {
      "text/plain": [
       "9"
      ]
     },
     "execution_count": 261,
     "metadata": {},
     "output_type": "execute_result"
    }
   ],
   "source": [
    "#predicting result\n",
    "np.argmax(cnn_predict[0])"
   ]
  },
  {
   "cell_type": "markdown",
   "id": "45488cfc",
   "metadata": {},
   "source": [
    "## CNN model is successful in predicting over the test data set and self created data(s)\n",
    "#### Accuracy 98.69% "
   ]
  }
 ],
 "metadata": {
  "kernelspec": {
   "display_name": "Python 3",
   "language": "python",
   "name": "python3"
  },
  "language_info": {
   "codemirror_mode": {
    "name": "ipython",
    "version": 3
   },
   "file_extension": ".py",
   "mimetype": "text/x-python",
   "name": "python",
   "nbconvert_exporter": "python",
   "pygments_lexer": "ipython3",
   "version": "3.8.8"
  }
 },
 "nbformat": 4,
 "nbformat_minor": 5
}
